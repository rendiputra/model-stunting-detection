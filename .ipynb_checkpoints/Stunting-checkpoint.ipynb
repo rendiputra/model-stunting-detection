{
 "cells": [
  {
   "cell_type": "code",
   "execution_count": 1,
   "id": "f38ca37c",
   "metadata": {},
   "outputs": [],
   "source": [
    "import numpy as np\n",
    "import pandas as pd\n",
    "\n",
    "# membaca dataset dari file CSV\n",
    "df = pd.read_csv('data_balita.csv')"
   ]
  },
  {
   "cell_type": "code",
   "execution_count": 2,
   "id": "2e3d45be",
   "metadata": {},
   "outputs": [],
   "source": [
    "# mengkodekan jenis kelamin\n",
    "df['Jenis Kelamin'] = df['Jenis Kelamin'].map({'laki-laki': 0, 'perempuan': 1})\n",
    "\n",
    "# mengkodekan status gizi\n",
    "df['Status Gizi'] = df['Status Gizi'].map({'severely stunted': 0, 'stunted': 1, 'normal': 2, 'tinggi': 3})\n"
   ]
  },
  {
   "cell_type": "code",
   "execution_count": 3,
   "id": "15ddbe2f",
   "metadata": {},
   "outputs": [],
   "source": [
    "from sklearn.model_selection import train_test_split\n",
    "\n",
    "# memisahkan fitur dan target\n",
    "X = df.iloc[:, 1:6]\n",
    "X = df.drop('Status Gizi', axis=1)\n",
    "y = df['Status Gizi']\n",
    "\n",
    "# membagi dataset menjadi data latih dan data uji\n",
    "X_train, X_test, y_train, y_test = train_test_split(X, y, test_size=0.2, random_state=42)"
   ]
  },
  {
   "cell_type": "code",
   "execution_count": 4,
   "id": "61f6effa",
   "metadata": {},
   "outputs": [
    {
     "data": {
      "text/plain": [
       "KNeighborsClassifier(algorithm='kd_tree', n_neighbors=3)"
      ]
     },
     "execution_count": 4,
     "metadata": {},
     "output_type": "execute_result"
    }
   ],
   "source": [
    "from sklearn.neighbors import KNeighborsClassifier\n",
    "\n",
    "# membuat objek KNN dengan k=3\n",
    "knn = KNeighborsClassifier(algorithm='kd_tree', n_neighbors=3)\n",
    "\n",
    "# melatih model KNN dengan data latih\n",
    "knn.fit(X_train, y_train)\n"
   ]
  },
  {
   "cell_type": "code",
   "execution_count": 5,
   "id": "136c852b",
   "metadata": {},
   "outputs": [
    {
     "name": "stdout",
     "output_type": "stream",
     "text": [
      "Akurasi model KNN: 0.725\n"
     ]
    }
   ],
   "source": [
    "from sklearn.metrics import accuracy_score\n",
    "\n",
    "# membuat prediksi dengan data uji\n",
    "y_pred = knn.predict(X_test)\n",
    "\n",
    "# menghitung akurasi model\n",
    "accuracy = accuracy_score(y_test, y_pred)\n",
    "print('Akurasi model KNN:', accuracy)\n"
   ]
  },
  {
   "cell_type": "code",
   "execution_count": 6,
   "id": "fcff326c",
   "metadata": {},
   "outputs": [],
   "source": [
    "from sklearn.metrics import classification_report, confusion_matrix"
   ]
  },
  {
   "cell_type": "code",
   "execution_count": 7,
   "id": "2742aa3e",
   "metadata": {},
   "outputs": [
    {
     "name": "stdout",
     "output_type": "stream",
     "text": [
      "              precision    recall  f1-score   support\n",
      "\n",
      "           0       0.50      0.42      0.45        12\n",
      "           1       0.00      0.00      0.00         8\n",
      "           2       0.84      0.88      0.86        41\n",
      "           3       0.81      0.89      0.85        19\n",
      "\n",
      "    accuracy                           0.73        80\n",
      "   macro avg       0.54      0.55      0.54        80\n",
      "weighted avg       0.70      0.72      0.71        80\n",
      "\n"
     ]
    }
   ],
   "source": [
    "print(classification_report(y_test.values.reshape(-1, 1), y_pred))"
   ]
  },
  {
   "cell_type": "code",
   "execution_count": 8,
   "id": "f91f2f15",
   "metadata": {},
   "outputs": [],
   "source": [
    "from sklearn.model_selection import cross_val_score"
   ]
  },
  {
   "cell_type": "code",
   "execution_count": 9,
   "id": "bf091ea0",
   "metadata": {},
   "outputs": [
    {
     "name": "stdout",
     "output_type": "stream",
     "text": [
      "Cross val:  [0.875  0.8125 0.875  0.4375 0.875 ]\n",
      "Accuracy :  0.775\n"
     ]
    }
   ],
   "source": [
    "print('Cross val: ', cross_val_score(knn, y_test.values.reshape(-1, 1), y_pred, cv = 5))\n",
    "print('Accuracy : ', np.mean(cross_val_score(knn, y_test.values.reshape(-1, 1), y_pred)))"
   ]
  },
  {
   "cell_type": "code",
   "execution_count": null,
   "id": "fbe08b13",
   "metadata": {},
   "outputs": [],
   "source": []
  }
 ],
 "metadata": {
  "kernelspec": {
   "display_name": "Python 3",
   "language": "python",
   "name": "python3"
  },
  "language_info": {
   "codemirror_mode": {
    "name": "ipython",
    "version": 3
   },
   "file_extension": ".py",
   "mimetype": "text/x-python",
   "name": "python",
   "nbconvert_exporter": "python",
   "pygments_lexer": "ipython3",
   "version": "3.8.8"
  }
 },
 "nbformat": 4,
 "nbformat_minor": 5
}
